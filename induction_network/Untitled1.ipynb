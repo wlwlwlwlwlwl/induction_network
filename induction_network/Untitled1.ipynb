{
 "cells": [
  {
   "cell_type": "code",
   "execution_count": 1,
   "id": "9aa70996-dc2a-4284-aa9d-31abfdf0b7f3",
   "metadata": {},
   "outputs": [],
   "source": [
    "import tensorflow as tf\n",
    "import random\n",
    "from utils import Contrast_loss, CapsuleLayer,Query_merge\n",
    "import bert\n",
    "\n",
    "\n",
    "class Contrast_induction(tf.keras.models.Model):\n",
    "    def __init__(self, d_model, number_class, max_query_lenth):\n",
    "        super(Contrast_induction, self).__init__()\n",
    "        self.d_model = d_model\n",
    "        self.cls_layer = tf.keras.layers.Lambda(lambda x: x[:, 0])\n",
    "        self.dense_query = tf.keras.layers.Dense(self.d_model, activation='relu', name=\"dense_query\")\n",
    "        self.dense_doc = tf.keras.layers.Dense(self.d_model, activation='relu')\n",
    "        self.dense_doc2 = tf.keras.layers.Dense(self.d_model, activation='relu', name=\"dense_doc\")\n",
    "        self.max_sentence_len = max_query_lenth\n",
    "        self.number_class = number_class\n",
    "        # self.capsule = CapsuleLayer(dim_capsule=self.d_model)\n",
    "        self.capsule=Query_merge()\n",
    "        self.loss_layer = Contrast_loss(num_class=self.number_class)\n",
    "        self.bert = self.build_bert()\n",
    "\n",
    "    def build_bert(self, ):\n",
    "        l_input_ids = tf.keras.layers.Input(shape=(self.max_sentence_len,), dtype='int32')\n",
    "        l_token_type_ids = tf.keras.layers.Input(shape=(self.max_sentence_len,), dtype='int32')\n",
    "        model_dir = './tiny_roberta/'\n",
    "        bert_params = bert.params_from_pretrained_ckpt(model_dir)\n",
    "        l_bert = bert.BertModelLayer.from_params(bert_params, name=\"bert\")\n",
    "#         output = l_bert([l_input_ids, l_token_type_ids])\n",
    "        model = tf.keras.Model(inputs=l_bert, outputs=output)\n",
    "#         model.build(input_shape=(None, max_seq_len))\n",
    "#         model.build(input_shape=[(None, max_seq_len), (None, max_seq_len)])\n",
    "        return model\n",
    "\n",
    "    def label_model(self, inputs):\n",
    "        doc = self.bert(inputs)\n",
    "        doc = self.cls_layer(doc)\n",
    "        doc = self.capsule(doc)\n",
    "        doc = self.dense_doc2(doc)\n",
    "        doc = tf.math.l2_normalize(doc, axis=-1, name=\"label_norm\")\n",
    "        return doc\n",
    "\n",
    "    def call(self, inputs):\n",
    "        char_query_input = inputs[0]\n",
    "        pos_query_input = inputs[1]\n",
    "        query = self.bert([char_query_input, pos_query_input])\n",
    "        query = self.cls_layer(query)\n",
    "        query = tf.math.l2_normalize(query, axis=-1, name=\"query_norm\")\n",
    "        doc_merge = tf.concat(\n",
    "            [self.label_model([inputs[2 * i], inputs[2 * i + 1]]) for i in range(1, self.number_class + 1)], axis=0)\n",
    "        loss = self.loss_layer([query, doc_merge])\n",
    "        return query, doc_merge, loss\n",
    "\n",
    "    def bulid_graph(self, ):\n",
    "        input_palce = []\n",
    "        input_palce.append(tf.keras.layers.Input(shape=[self.max_sentence_len, ], name=\"query_char\"))\n",
    "        input_palce.append(tf.keras.layers.Input(shape=[self.max_sentence_len, ], name=\"query_pos\"))\n",
    "        input_palce.append(tf.keras.layers.Input(shape=[self.max_sentence_len, ], name=\"doc_char\"))\n",
    "        input_palce.append(tf.keras.layers.Input(shape=[self.max_sentence_len, ], name=\"doc_pos\"))\n",
    "        for i in range(1, self.number_class):\n",
    "            input_palce.append(tf.keras.layers.Input(shape=[self.max_sentence_len, ]))\n",
    "            input_palce.append(tf.keras.layers.Input(shape=[self.max_sentence_len, ]))\n",
    "        return tf.keras.models.Model(input_palce, self.call(input_palce))\n"
   ]
  },
  {
   "cell_type": "code",
   "execution_count": 2,
   "id": "93ad5975-0493-43bf-9a14-0895eabff0c4",
   "metadata": {},
   "outputs": [
    {
     "ename": "TypeError",
     "evalue": "in user code:\n\n    I:\\anaconda\\envs\\re_tf\\lib\\site-packages\\bert\\model.py:80 call  *\n        output           = self.encoders_layer(embedding_output, mask=mask, training=training)\n    I:\\anaconda\\envs\\re_tf\\lib\\site-packages\\keras\\engine\\base_layer.py:1030 __call__  **\n        self._maybe_build(inputs)\n    I:\\anaconda\\envs\\re_tf\\lib\\site-packages\\keras\\engine\\base_layer.py:2659 _maybe_build\n        self.build(input_shapes)  # pylint:disable=not-callable\n    I:\\anaconda\\envs\\re_tf\\lib\\site-packages\\bert\\transformer.py:209 build\n        self.input_spec = keras.layers.InputSpec(shape=input_shape)\n    I:\\anaconda\\envs\\re_tf\\lib\\site-packages\\keras\\engine\\base_layer.py:2777 __setattr__\n        super(tf.__internal__.tracking.AutoTrackable, self).__setattr__(name, value)  # pylint: disable=bad-super-call\n    I:\\anaconda\\envs\\re_tf\\lib\\site-packages\\tensorflow\\python\\training\\tracking\\base.py:530 _method_wrapper\n        result = method(self, *args, **kwargs)\n    I:\\anaconda\\envs\\re_tf\\lib\\site-packages\\keras\\engine\\base_layer.py:1297 input_spec\n        'Got: {}'.format(v))\n\n    TypeError: Layer input_spec must be an instance of InputSpec. Got: InputSpec(shape=(None, 19, 312), ndim=3)\n",
     "output_type": "error",
     "traceback": [
      "\u001b[1;31m---------------------------------------------------------------------------\u001b[0m",
      "\u001b[1;31mTypeError\u001b[0m                                 Traceback (most recent call last)",
      "\u001b[1;32m~\\AppData\\Local\\Temp/ipykernel_3716/3788958770.py\u001b[0m in \u001b[0;36m<module>\u001b[1;34m\u001b[0m\n\u001b[1;32m----> 1\u001b[1;33m \u001b[0ma\u001b[0m\u001b[1;33m=\u001b[0m\u001b[0mContrast_induction\u001b[0m\u001b[1;33m(\u001b[0m\u001b[1;36m2\u001b[0m\u001b[1;33m,\u001b[0m\u001b[1;36m2\u001b[0m\u001b[1;33m,\u001b[0m\u001b[1;36m19\u001b[0m\u001b[1;33m)\u001b[0m\u001b[1;33m\u001b[0m\u001b[1;33m\u001b[0m\u001b[0m\n\u001b[0m",
      "\u001b[1;32m~\\AppData\\Local\\Temp/ipykernel_3716/2252994498.py\u001b[0m in \u001b[0;36m__init__\u001b[1;34m(self, d_model, number_class, max_query_lenth)\u001b[0m\n\u001b[0;32m     18\u001b[0m         \u001b[0mself\u001b[0m\u001b[1;33m.\u001b[0m\u001b[0mcapsule\u001b[0m\u001b[1;33m=\u001b[0m\u001b[0mQuery_merge\u001b[0m\u001b[1;33m(\u001b[0m\u001b[1;33m)\u001b[0m\u001b[1;33m\u001b[0m\u001b[1;33m\u001b[0m\u001b[0m\n\u001b[0;32m     19\u001b[0m         \u001b[0mself\u001b[0m\u001b[1;33m.\u001b[0m\u001b[0mloss_layer\u001b[0m \u001b[1;33m=\u001b[0m \u001b[0mContrast_loss\u001b[0m\u001b[1;33m(\u001b[0m\u001b[0mnum_class\u001b[0m\u001b[1;33m=\u001b[0m\u001b[0mself\u001b[0m\u001b[1;33m.\u001b[0m\u001b[0mnumber_class\u001b[0m\u001b[1;33m)\u001b[0m\u001b[1;33m\u001b[0m\u001b[1;33m\u001b[0m\u001b[0m\n\u001b[1;32m---> 20\u001b[1;33m         \u001b[0mself\u001b[0m\u001b[1;33m.\u001b[0m\u001b[0mbert\u001b[0m \u001b[1;33m=\u001b[0m \u001b[0mself\u001b[0m\u001b[1;33m.\u001b[0m\u001b[0mbuild_bert\u001b[0m\u001b[1;33m(\u001b[0m\u001b[1;33m)\u001b[0m\u001b[1;33m\u001b[0m\u001b[1;33m\u001b[0m\u001b[0m\n\u001b[0m\u001b[0;32m     21\u001b[0m \u001b[1;33m\u001b[0m\u001b[0m\n\u001b[0;32m     22\u001b[0m     \u001b[1;32mdef\u001b[0m \u001b[0mbuild_bert\u001b[0m\u001b[1;33m(\u001b[0m\u001b[0mself\u001b[0m\u001b[1;33m,\u001b[0m \u001b[1;33m)\u001b[0m\u001b[1;33m:\u001b[0m\u001b[1;33m\u001b[0m\u001b[1;33m\u001b[0m\u001b[0m\n",
      "\u001b[1;32m~\\AppData\\Local\\Temp/ipykernel_3716/2252994498.py\u001b[0m in \u001b[0;36mbuild_bert\u001b[1;34m(self)\u001b[0m\n\u001b[0;32m     26\u001b[0m         \u001b[0mbert_params\u001b[0m \u001b[1;33m=\u001b[0m \u001b[0mbert\u001b[0m\u001b[1;33m.\u001b[0m\u001b[0mparams_from_pretrained_ckpt\u001b[0m\u001b[1;33m(\u001b[0m\u001b[0mmodel_dir\u001b[0m\u001b[1;33m)\u001b[0m\u001b[1;33m\u001b[0m\u001b[1;33m\u001b[0m\u001b[0m\n\u001b[0;32m     27\u001b[0m         \u001b[0ml_bert\u001b[0m \u001b[1;33m=\u001b[0m \u001b[0mbert\u001b[0m\u001b[1;33m.\u001b[0m\u001b[0mBertModelLayer\u001b[0m\u001b[1;33m.\u001b[0m\u001b[0mfrom_params\u001b[0m\u001b[1;33m(\u001b[0m\u001b[0mbert_params\u001b[0m\u001b[1;33m,\u001b[0m \u001b[0mname\u001b[0m\u001b[1;33m=\u001b[0m\u001b[1;34m\"bert\"\u001b[0m\u001b[1;33m)\u001b[0m\u001b[1;33m\u001b[0m\u001b[1;33m\u001b[0m\u001b[0m\n\u001b[1;32m---> 28\u001b[1;33m         \u001b[0moutput\u001b[0m \u001b[1;33m=\u001b[0m \u001b[0ml_bert\u001b[0m\u001b[1;33m(\u001b[0m\u001b[1;33m[\u001b[0m\u001b[0ml_input_ids\u001b[0m\u001b[1;33m,\u001b[0m \u001b[0ml_token_type_ids\u001b[0m\u001b[1;33m]\u001b[0m\u001b[1;33m)\u001b[0m\u001b[1;33m\u001b[0m\u001b[1;33m\u001b[0m\u001b[0m\n\u001b[0m\u001b[0;32m     29\u001b[0m         \u001b[0mmodel\u001b[0m \u001b[1;33m=\u001b[0m \u001b[0mtf\u001b[0m\u001b[1;33m.\u001b[0m\u001b[0mkeras\u001b[0m\u001b[1;33m.\u001b[0m\u001b[0mModel\u001b[0m\u001b[1;33m(\u001b[0m\u001b[0minputs\u001b[0m\u001b[1;33m=\u001b[0m\u001b[1;33m[\u001b[0m\u001b[0ml_input_ids\u001b[0m\u001b[1;33m,\u001b[0m \u001b[0ml_token_type_ids\u001b[0m\u001b[1;33m]\u001b[0m\u001b[1;33m,\u001b[0m \u001b[0moutputs\u001b[0m\u001b[1;33m=\u001b[0m\u001b[0moutput\u001b[0m\u001b[1;33m)\u001b[0m\u001b[1;33m\u001b[0m\u001b[1;33m\u001b[0m\u001b[0m\n\u001b[0;32m     30\u001b[0m \u001b[1;31m#         model.build(input_shape=(None, max_seq_len))\u001b[0m\u001b[1;33m\u001b[0m\u001b[1;33m\u001b[0m\u001b[1;33m\u001b[0m\u001b[0m\n",
      "\u001b[1;32mI:\\anaconda\\envs\\re_tf\\lib\\site-packages\\keras\\engine\\base_layer.py\u001b[0m in \u001b[0;36m__call__\u001b[1;34m(self, *args, **kwargs)\u001b[0m\n\u001b[0;32m    975\u001b[0m     \u001b[1;32mif\u001b[0m \u001b[0m_in_functional_construction_mode\u001b[0m\u001b[1;33m(\u001b[0m\u001b[0mself\u001b[0m\u001b[1;33m,\u001b[0m \u001b[0minputs\u001b[0m\u001b[1;33m,\u001b[0m \u001b[0margs\u001b[0m\u001b[1;33m,\u001b[0m \u001b[0mkwargs\u001b[0m\u001b[1;33m,\u001b[0m \u001b[0minput_list\u001b[0m\u001b[1;33m)\u001b[0m\u001b[1;33m:\u001b[0m\u001b[1;33m\u001b[0m\u001b[1;33m\u001b[0m\u001b[0m\n\u001b[0;32m    976\u001b[0m       return self._functional_construction_call(inputs, args, kwargs,\n\u001b[1;32m--> 977\u001b[1;33m                                                 input_list)\n\u001b[0m\u001b[0;32m    978\u001b[0m \u001b[1;33m\u001b[0m\u001b[0m\n\u001b[0;32m    979\u001b[0m     \u001b[1;31m# Maintains info about the `Layer.call` stack.\u001b[0m\u001b[1;33m\u001b[0m\u001b[1;33m\u001b[0m\u001b[1;33m\u001b[0m\u001b[0m\n",
      "\u001b[1;32mI:\\anaconda\\envs\\re_tf\\lib\\site-packages\\keras\\engine\\base_layer.py\u001b[0m in \u001b[0;36m_functional_construction_call\u001b[1;34m(self, inputs, args, kwargs, input_list)\u001b[0m\n\u001b[0;32m   1113\u001b[0m       \u001b[1;31m# Check input assumptions set after layer building, e.g. input shape.\u001b[0m\u001b[1;33m\u001b[0m\u001b[1;33m\u001b[0m\u001b[1;33m\u001b[0m\u001b[0m\n\u001b[0;32m   1114\u001b[0m       outputs = self._keras_tensor_symbolic_call(\n\u001b[1;32m-> 1115\u001b[1;33m           inputs, input_masks, args, kwargs)\n\u001b[0m\u001b[0;32m   1116\u001b[0m \u001b[1;33m\u001b[0m\u001b[0m\n\u001b[0;32m   1117\u001b[0m       \u001b[1;32mif\u001b[0m \u001b[0moutputs\u001b[0m \u001b[1;32mis\u001b[0m \u001b[1;32mNone\u001b[0m\u001b[1;33m:\u001b[0m\u001b[1;33m\u001b[0m\u001b[1;33m\u001b[0m\u001b[0m\n",
      "\u001b[1;32mI:\\anaconda\\envs\\re_tf\\lib\\site-packages\\keras\\engine\\base_layer.py\u001b[0m in \u001b[0;36m_keras_tensor_symbolic_call\u001b[1;34m(self, inputs, input_masks, args, kwargs)\u001b[0m\n\u001b[0;32m    846\u001b[0m       \u001b[1;32mreturn\u001b[0m \u001b[0mtf\u001b[0m\u001b[1;33m.\u001b[0m\u001b[0mnest\u001b[0m\u001b[1;33m.\u001b[0m\u001b[0mmap_structure\u001b[0m\u001b[1;33m(\u001b[0m\u001b[0mkeras_tensor\u001b[0m\u001b[1;33m.\u001b[0m\u001b[0mKerasTensor\u001b[0m\u001b[1;33m,\u001b[0m \u001b[0moutput_signature\u001b[0m\u001b[1;33m)\u001b[0m\u001b[1;33m\u001b[0m\u001b[1;33m\u001b[0m\u001b[0m\n\u001b[0;32m    847\u001b[0m     \u001b[1;32melse\u001b[0m\u001b[1;33m:\u001b[0m\u001b[1;33m\u001b[0m\u001b[1;33m\u001b[0m\u001b[0m\n\u001b[1;32m--> 848\u001b[1;33m       \u001b[1;32mreturn\u001b[0m \u001b[0mself\u001b[0m\u001b[1;33m.\u001b[0m\u001b[0m_infer_output_signature\u001b[0m\u001b[1;33m(\u001b[0m\u001b[0minputs\u001b[0m\u001b[1;33m,\u001b[0m \u001b[0margs\u001b[0m\u001b[1;33m,\u001b[0m \u001b[0mkwargs\u001b[0m\u001b[1;33m,\u001b[0m \u001b[0minput_masks\u001b[0m\u001b[1;33m)\u001b[0m\u001b[1;33m\u001b[0m\u001b[1;33m\u001b[0m\u001b[0m\n\u001b[0m\u001b[0;32m    849\u001b[0m \u001b[1;33m\u001b[0m\u001b[0m\n\u001b[0;32m    850\u001b[0m   \u001b[1;32mdef\u001b[0m \u001b[0m_infer_output_signature\u001b[0m\u001b[1;33m(\u001b[0m\u001b[0mself\u001b[0m\u001b[1;33m,\u001b[0m \u001b[0minputs\u001b[0m\u001b[1;33m,\u001b[0m \u001b[0margs\u001b[0m\u001b[1;33m,\u001b[0m \u001b[0mkwargs\u001b[0m\u001b[1;33m,\u001b[0m \u001b[0minput_masks\u001b[0m\u001b[1;33m)\u001b[0m\u001b[1;33m:\u001b[0m\u001b[1;33m\u001b[0m\u001b[1;33m\u001b[0m\u001b[0m\n",
      "\u001b[1;32mI:\\anaconda\\envs\\re_tf\\lib\\site-packages\\keras\\engine\\base_layer.py\u001b[0m in \u001b[0;36m_infer_output_signature\u001b[1;34m(self, inputs, args, kwargs, input_masks)\u001b[0m\n\u001b[0;32m    886\u001b[0m           \u001b[0mself\u001b[0m\u001b[1;33m.\u001b[0m\u001b[0m_maybe_build\u001b[0m\u001b[1;33m(\u001b[0m\u001b[0minputs\u001b[0m\u001b[1;33m)\u001b[0m\u001b[1;33m\u001b[0m\u001b[1;33m\u001b[0m\u001b[0m\n\u001b[0;32m    887\u001b[0m           \u001b[0minputs\u001b[0m \u001b[1;33m=\u001b[0m \u001b[0mself\u001b[0m\u001b[1;33m.\u001b[0m\u001b[0m_maybe_cast_inputs\u001b[0m\u001b[1;33m(\u001b[0m\u001b[0minputs\u001b[0m\u001b[1;33m)\u001b[0m\u001b[1;33m\u001b[0m\u001b[1;33m\u001b[0m\u001b[0m\n\u001b[1;32m--> 888\u001b[1;33m           \u001b[0moutputs\u001b[0m \u001b[1;33m=\u001b[0m \u001b[0mcall_fn\u001b[0m\u001b[1;33m(\u001b[0m\u001b[0minputs\u001b[0m\u001b[1;33m,\u001b[0m \u001b[1;33m*\u001b[0m\u001b[0margs\u001b[0m\u001b[1;33m,\u001b[0m \u001b[1;33m**\u001b[0m\u001b[0mkwargs\u001b[0m\u001b[1;33m)\u001b[0m\u001b[1;33m\u001b[0m\u001b[1;33m\u001b[0m\u001b[0m\n\u001b[0m\u001b[0;32m    889\u001b[0m \u001b[1;33m\u001b[0m\u001b[0m\n\u001b[0;32m    890\u001b[0m         \u001b[0mself\u001b[0m\u001b[1;33m.\u001b[0m\u001b[0m_handle_activity_regularization\u001b[0m\u001b[1;33m(\u001b[0m\u001b[0minputs\u001b[0m\u001b[1;33m,\u001b[0m \u001b[0moutputs\u001b[0m\u001b[1;33m)\u001b[0m\u001b[1;33m\u001b[0m\u001b[1;33m\u001b[0m\u001b[0m\n",
      "\u001b[1;32mI:\\anaconda\\envs\\re_tf\\lib\\site-packages\\tensorflow\\python\\autograph\\impl\\api.py\u001b[0m in \u001b[0;36mwrapper\u001b[1;34m(*args, **kwargs)\u001b[0m\n\u001b[0;32m    693\u001b[0m       \u001b[1;32mexcept\u001b[0m \u001b[0mException\u001b[0m \u001b[1;32mas\u001b[0m \u001b[0me\u001b[0m\u001b[1;33m:\u001b[0m  \u001b[1;31m# pylint:disable=broad-except\u001b[0m\u001b[1;33m\u001b[0m\u001b[1;33m\u001b[0m\u001b[0m\n\u001b[0;32m    694\u001b[0m         \u001b[1;32mif\u001b[0m \u001b[0mhasattr\u001b[0m\u001b[1;33m(\u001b[0m\u001b[0me\u001b[0m\u001b[1;33m,\u001b[0m \u001b[1;34m'ag_error_metadata'\u001b[0m\u001b[1;33m)\u001b[0m\u001b[1;33m:\u001b[0m\u001b[1;33m\u001b[0m\u001b[1;33m\u001b[0m\u001b[0m\n\u001b[1;32m--> 695\u001b[1;33m           \u001b[1;32mraise\u001b[0m \u001b[0me\u001b[0m\u001b[1;33m.\u001b[0m\u001b[0mag_error_metadata\u001b[0m\u001b[1;33m.\u001b[0m\u001b[0mto_exception\u001b[0m\u001b[1;33m(\u001b[0m\u001b[0me\u001b[0m\u001b[1;33m)\u001b[0m\u001b[1;33m\u001b[0m\u001b[1;33m\u001b[0m\u001b[0m\n\u001b[0m\u001b[0;32m    696\u001b[0m         \u001b[1;32melse\u001b[0m\u001b[1;33m:\u001b[0m\u001b[1;33m\u001b[0m\u001b[1;33m\u001b[0m\u001b[0m\n\u001b[0;32m    697\u001b[0m           \u001b[1;32mraise\u001b[0m\u001b[1;33m\u001b[0m\u001b[1;33m\u001b[0m\u001b[0m\n",
      "\u001b[1;31mTypeError\u001b[0m: in user code:\n\n    I:\\anaconda\\envs\\re_tf\\lib\\site-packages\\bert\\model.py:80 call  *\n        output           = self.encoders_layer(embedding_output, mask=mask, training=training)\n    I:\\anaconda\\envs\\re_tf\\lib\\site-packages\\keras\\engine\\base_layer.py:1030 __call__  **\n        self._maybe_build(inputs)\n    I:\\anaconda\\envs\\re_tf\\lib\\site-packages\\keras\\engine\\base_layer.py:2659 _maybe_build\n        self.build(input_shapes)  # pylint:disable=not-callable\n    I:\\anaconda\\envs\\re_tf\\lib\\site-packages\\bert\\transformer.py:209 build\n        self.input_spec = keras.layers.InputSpec(shape=input_shape)\n    I:\\anaconda\\envs\\re_tf\\lib\\site-packages\\keras\\engine\\base_layer.py:2777 __setattr__\n        super(tf.__internal__.tracking.AutoTrackable, self).__setattr__(name, value)  # pylint: disable=bad-super-call\n    I:\\anaconda\\envs\\re_tf\\lib\\site-packages\\tensorflow\\python\\training\\tracking\\base.py:530 _method_wrapper\n        result = method(self, *args, **kwargs)\n    I:\\anaconda\\envs\\re_tf\\lib\\site-packages\\keras\\engine\\base_layer.py:1297 input_spec\n        'Got: {}'.format(v))\n\n    TypeError: Layer input_spec must be an instance of InputSpec. Got: InputSpec(shape=(None, 19, 312), ndim=3)\n"
     ]
    }
   ],
   "source": [
    "a=Contrast_induction(2,2,19)"
   ]
  },
  {
   "cell_type": "code",
   "execution_count": null,
   "id": "fb9ec0fb-2a3f-4307-b932-db69408e20d8",
   "metadata": {},
   "outputs": [],
   "source": []
  }
 ],
 "metadata": {
  "kernelspec": {
   "display_name": "Python 3 (ipykernel)",
   "language": "python",
   "name": "python3"
  },
  "language_info": {
   "codemirror_mode": {
    "name": "ipython",
    "version": 3
   },
   "file_extension": ".py",
   "mimetype": "text/x-python",
   "name": "python",
   "nbconvert_exporter": "python",
   "pygments_lexer": "ipython3",
   "version": "3.8.12"
  }
 },
 "nbformat": 4,
 "nbformat_minor": 5
}
