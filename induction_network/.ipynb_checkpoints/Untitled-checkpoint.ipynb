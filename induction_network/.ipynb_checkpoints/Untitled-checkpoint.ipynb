{
 "cells": [
  {
   "cell_type": "code",
   "execution_count": 1,
   "metadata": {},
   "outputs": [],
   "source": [
    "import pickle"
   ]
  },
  {
   "cell_type": "code",
   "execution_count": null,
   "metadata": {},
   "outputs": [],
   "source": []
  },
  {
   "cell_type": "code",
   "execution_count": 2,
   "metadata": {},
   "outputs": [],
   "source": [
    "with open('./train_data/id2sent_use_sent2id_use_id2sent_valid_data.p','rb') as file:\n",
    "    use_sent2id, use_id2sent, valid_data=pickle.load(file)\n",
    "#     pickle.dump((use_sent2id, use_id2sent, valid_data),file)"
   ]
  },
  {
   "cell_type": "code",
   "execution_count": 3,
   "metadata": {
    "tags": []
   },
   "outputs": [
    {
     "name": "stdout",
     "output_type": "stream",
     "text": [
      "use_label 3562\n",
      "all_label 22431\n",
      "valid 2414\n",
      "Model: \"functional_3\"\n",
      "__________________________________________________________________________________________________\n",
      "Layer (type)                    Output Shape         Param #     Connected to                     \n",
      "==================================================================================================\n",
      "query_char (InputLayer)         [(None, 20)]         0                                            \n",
      "__________________________________________________________________________________________________\n",
      "query_pos (InputLayer)          [(None, 20)]         0                                            \n",
      "__________________________________________________________________________________________________\n",
      "doc_char (InputLayer)           [(None, 20)]         0                                            \n",
      "__________________________________________________________________________________________________\n",
      "doc_pos (InputLayer)            [(None, 20)]         0                                            \n",
      "__________________________________________________________________________________________________\n",
      "input_3 (InputLayer)            [(None, 20)]         0                                            \n",
      "__________________________________________________________________________________________________\n",
      "input_4 (InputLayer)            [(None, 20)]         0                                            \n",
      "__________________________________________________________________________________________________\n",
      "input_5 (InputLayer)            [(None, 20)]         0                                            \n",
      "__________________________________________________________________________________________________\n",
      "input_6 (InputLayer)            [(None, 20)]         0                                            \n",
      "__________________________________________________________________________________________________\n",
      "input_7 (InputLayer)            [(None, 20)]         0                                            \n",
      "__________________________________________________________________________________________________\n",
      "input_8 (InputLayer)            [(None, 20)]         0                                            \n",
      "__________________________________________________________________________________________________\n",
      "input_9 (InputLayer)            [(None, 20)]         0                                            \n",
      "__________________________________________________________________________________________________\n",
      "input_10 (InputLayer)           [(None, 20)]         0                                            \n",
      "__________________________________________________________________________________________________\n",
      "input_11 (InputLayer)           [(None, 20)]         0                                            \n",
      "__________________________________________________________________________________________________\n",
      "input_12 (InputLayer)           [(None, 20)]         0                                            \n",
      "__________________________________________________________________________________________________\n",
      "input_13 (InputLayer)           [(None, 20)]         0                                            \n",
      "__________________________________________________________________________________________________\n",
      "input_14 (InputLayer)           [(None, 20)]         0                                            \n",
      "__________________________________________________________________________________________________\n",
      "input_15 (InputLayer)           [(None, 20)]         0                                            \n",
      "__________________________________________________________________________________________________\n",
      "input_16 (InputLayer)           [(None, 20)]         0                                            \n",
      "__________________________________________________________________________________________________\n",
      "functional_1 (Functional)       (None, 20, 312)      6180096     query_char[0][0]                 \n",
      "                                                                 query_pos[0][0]                  \n",
      "                                                                 doc_char[0][0]                   \n",
      "                                                                 doc_pos[0][0]                    \n",
      "                                                                 input_3[0][0]                    \n",
      "                                                                 input_4[0][0]                    \n",
      "                                                                 input_5[0][0]                    \n",
      "                                                                 input_6[0][0]                    \n",
      "                                                                 input_7[0][0]                    \n",
      "                                                                 input_8[0][0]                    \n",
      "                                                                 input_9[0][0]                    \n",
      "                                                                 input_10[0][0]                   \n",
      "                                                                 input_11[0][0]                   \n",
      "                                                                 input_12[0][0]                   \n",
      "                                                                 input_13[0][0]                   \n",
      "                                                                 input_14[0][0]                   \n",
      "                                                                 input_15[0][0]                   \n",
      "                                                                 input_16[0][0]                   \n",
      "__________________________________________________________________________________________________\n",
      "lambda (Lambda)                 (None, 312)          0           functional_1[0][0]               \n",
      "                                                                 functional_1[1][0]               \n",
      "                                                                 functional_1[2][0]               \n",
      "                                                                 functional_1[3][0]               \n",
      "                                                                 functional_1[4][0]               \n",
      "                                                                 functional_1[5][0]               \n",
      "                                                                 functional_1[6][0]               \n",
      "                                                                 functional_1[7][0]               \n",
      "                                                                 functional_1[8][0]               \n",
      "__________________________________________________________________________________________________\n",
      "capsule_layer (CapsuleLayer)    (1, 312)             97656       lambda[1][0]                     \n",
      "                                                                 lambda[2][0]                     \n",
      "                                                                 lambda[3][0]                     \n",
      "                                                                 lambda[4][0]                     \n",
      "                                                                 lambda[5][0]                     \n",
      "                                                                 lambda[6][0]                     \n",
      "                                                                 lambda[7][0]                     \n",
      "                                                                 lambda[8][0]                     \n",
      "__________________________________________________________________________________________________\n",
      "tf_op_layer_Square_1 (TensorFlo [(1, 312)]           0           capsule_layer[0][0]              \n",
      "__________________________________________________________________________________________________\n",
      "tf_op_layer_Square_2 (TensorFlo [(1, 312)]           0           capsule_layer[1][0]              \n",
      "__________________________________________________________________________________________________\n",
      "tf_op_layer_Square_3 (TensorFlo [(1, 312)]           0           capsule_layer[2][0]              \n",
      "__________________________________________________________________________________________________\n",
      "tf_op_layer_Square_4 (TensorFlo [(1, 312)]           0           capsule_layer[3][0]              \n",
      "__________________________________________________________________________________________________\n",
      "tf_op_layer_Square_5 (TensorFlo [(1, 312)]           0           capsule_layer[4][0]              \n",
      "__________________________________________________________________________________________________\n",
      "tf_op_layer_Square_6 (TensorFlo [(1, 312)]           0           capsule_layer[5][0]              \n",
      "__________________________________________________________________________________________________\n",
      "tf_op_layer_Square_7 (TensorFlo [(1, 312)]           0           capsule_layer[6][0]              \n",
      "__________________________________________________________________________________________________\n",
      "tf_op_layer_Square_8 (TensorFlo [(1, 312)]           0           capsule_layer[7][0]              \n",
      "__________________________________________________________________________________________________\n",
      "tf_op_layer_Square (TensorFlowO [(None, 312)]        0           lambda[0][0]                     \n",
      "__________________________________________________________________________________________________\n",
      "tf_op_layer_Sum_1 (TensorFlowOp [(1, 1)]             0           tf_op_layer_Square_1[0][0]       \n",
      "__________________________________________________________________________________________________\n",
      "tf_op_layer_Sum_2 (TensorFlowOp [(1, 1)]             0           tf_op_layer_Square_2[0][0]       \n",
      "__________________________________________________________________________________________________\n",
      "tf_op_layer_Sum_3 (TensorFlowOp [(1, 1)]             0           tf_op_layer_Square_3[0][0]       \n",
      "__________________________________________________________________________________________________\n",
      "tf_op_layer_Sum_4 (TensorFlowOp [(1, 1)]             0           tf_op_layer_Square_4[0][0]       \n",
      "__________________________________________________________________________________________________\n",
      "tf_op_layer_Sum_5 (TensorFlowOp [(1, 1)]             0           tf_op_layer_Square_5[0][0]       \n",
      "__________________________________________________________________________________________________\n",
      "tf_op_layer_Sum_6 (TensorFlowOp [(1, 1)]             0           tf_op_layer_Square_6[0][0]       \n",
      "__________________________________________________________________________________________________\n",
      "tf_op_layer_Sum_7 (TensorFlowOp [(1, 1)]             0           tf_op_layer_Square_7[0][0]       \n",
      "__________________________________________________________________________________________________\n",
      "tf_op_layer_Sum_8 (TensorFlowOp [(1, 1)]             0           tf_op_layer_Square_8[0][0]       \n",
      "__________________________________________________________________________________________________\n",
      "tf_op_layer_Sum (TensorFlowOpLa [(None, 1)]          0           tf_op_layer_Square[0][0]         \n",
      "__________________________________________________________________________________________________\n",
      "tf_op_layer_Maximum_1 (TensorFl [(1, 1)]             0           tf_op_layer_Sum_1[0][0]          \n",
      "__________________________________________________________________________________________________\n",
      "tf_op_layer_Maximum_2 (TensorFl [(1, 1)]             0           tf_op_layer_Sum_2[0][0]          \n",
      "__________________________________________________________________________________________________\n",
      "tf_op_layer_Maximum_3 (TensorFl [(1, 1)]             0           tf_op_layer_Sum_3[0][0]          \n",
      "__________________________________________________________________________________________________\n",
      "tf_op_layer_Maximum_4 (TensorFl [(1, 1)]             0           tf_op_layer_Sum_4[0][0]          \n",
      "__________________________________________________________________________________________________\n",
      "tf_op_layer_Maximum_5 (TensorFl [(1, 1)]             0           tf_op_layer_Sum_5[0][0]          \n",
      "__________________________________________________________________________________________________\n",
      "tf_op_layer_Maximum_6 (TensorFl [(1, 1)]             0           tf_op_layer_Sum_6[0][0]          \n",
      "__________________________________________________________________________________________________\n",
      "tf_op_layer_Maximum_7 (TensorFl [(1, 1)]             0           tf_op_layer_Sum_7[0][0]          \n",
      "__________________________________________________________________________________________________\n",
      "tf_op_layer_Maximum_8 (TensorFl [(1, 1)]             0           tf_op_layer_Sum_8[0][0]          \n",
      "__________________________________________________________________________________________________\n",
      "tf_op_layer_Maximum (TensorFlow [(None, 1)]          0           tf_op_layer_Sum[0][0]            \n",
      "__________________________________________________________________________________________________\n",
      "tf_op_layer_Rsqrt_1 (TensorFlow [(1, 1)]             0           tf_op_layer_Maximum_1[0][0]      \n",
      "__________________________________________________________________________________________________\n",
      "tf_op_layer_Rsqrt_2 (TensorFlow [(1, 1)]             0           tf_op_layer_Maximum_2[0][0]      \n",
      "__________________________________________________________________________________________________\n",
      "tf_op_layer_Rsqrt_3 (TensorFlow [(1, 1)]             0           tf_op_layer_Maximum_3[0][0]      \n",
      "__________________________________________________________________________________________________\n",
      "tf_op_layer_Rsqrt_4 (TensorFlow [(1, 1)]             0           tf_op_layer_Maximum_4[0][0]      \n",
      "__________________________________________________________________________________________________\n",
      "tf_op_layer_Rsqrt_5 (TensorFlow [(1, 1)]             0           tf_op_layer_Maximum_5[0][0]      \n",
      "__________________________________________________________________________________________________\n",
      "tf_op_layer_Rsqrt_6 (TensorFlow [(1, 1)]             0           tf_op_layer_Maximum_6[0][0]      \n",
      "__________________________________________________________________________________________________\n",
      "tf_op_layer_Rsqrt_7 (TensorFlow [(1, 1)]             0           tf_op_layer_Maximum_7[0][0]      \n",
      "__________________________________________________________________________________________________\n",
      "tf_op_layer_Rsqrt_8 (TensorFlow [(1, 1)]             0           tf_op_layer_Maximum_8[0][0]      \n",
      "__________________________________________________________________________________________________\n",
      "tf_op_layer_Rsqrt (TensorFlowOp [(None, 1)]          0           tf_op_layer_Maximum[0][0]        \n",
      "__________________________________________________________________________________________________\n",
      "tf_op_layer_Mul_1 (TensorFlowOp [(1, 312)]           0           capsule_layer[0][0]              \n",
      "                                                                 tf_op_layer_Rsqrt_1[0][0]        \n",
      "__________________________________________________________________________________________________\n",
      "tf_op_layer_Mul_2 (TensorFlowOp [(1, 312)]           0           capsule_layer[1][0]              \n",
      "                                                                 tf_op_layer_Rsqrt_2[0][0]        \n",
      "__________________________________________________________________________________________________\n",
      "tf_op_layer_Mul_3 (TensorFlowOp [(1, 312)]           0           capsule_layer[2][0]              \n",
      "                                                                 tf_op_layer_Rsqrt_3[0][0]        \n",
      "__________________________________________________________________________________________________\n",
      "tf_op_layer_Mul_4 (TensorFlowOp [(1, 312)]           0           capsule_layer[3][0]              \n",
      "                                                                 tf_op_layer_Rsqrt_4[0][0]        \n",
      "__________________________________________________________________________________________________\n",
      "tf_op_layer_Mul_5 (TensorFlowOp [(1, 312)]           0           capsule_layer[4][0]              \n",
      "                                                                 tf_op_layer_Rsqrt_5[0][0]        \n",
      "__________________________________________________________________________________________________\n",
      "tf_op_layer_Mul_6 (TensorFlowOp [(1, 312)]           0           capsule_layer[5][0]              \n",
      "                                                                 tf_op_layer_Rsqrt_6[0][0]        \n",
      "__________________________________________________________________________________________________\n",
      "tf_op_layer_Mul_7 (TensorFlowOp [(1, 312)]           0           capsule_layer[6][0]              \n",
      "                                                                 tf_op_layer_Rsqrt_7[0][0]        \n",
      "__________________________________________________________________________________________________\n",
      "tf_op_layer_Mul_8 (TensorFlowOp [(1, 312)]           0           capsule_layer[7][0]              \n",
      "                                                                 tf_op_layer_Rsqrt_8[0][0]        \n",
      "__________________________________________________________________________________________________\n",
      "tf_op_layer_Mul (TensorFlowOpLa [(None, 312)]        0           lambda[0][0]                     \n",
      "                                                                 tf_op_layer_Rsqrt[0][0]          \n",
      "__________________________________________________________________________________________________\n",
      "tf_op_layer_concat (TensorFlowO [(8, 312)]           0           tf_op_layer_Mul_1[0][0]          \n",
      "                                                                 tf_op_layer_Mul_2[0][0]          \n",
      "                                                                 tf_op_layer_Mul_3[0][0]          \n",
      "                                                                 tf_op_layer_Mul_4[0][0]          \n",
      "                                                                 tf_op_layer_Mul_5[0][0]          \n",
      "                                                                 tf_op_layer_Mul_6[0][0]          \n",
      "                                                                 tf_op_layer_Mul_7[0][0]          \n",
      "                                                                 tf_op_layer_Mul_8[0][0]          \n",
      "__________________________________________________________________________________________________\n",
      "contrast_loss (Contrast_loss)   ()                   0           tf_op_layer_Mul[0][0]            \n",
      "                                                                 tf_op_layer_concat[0][0]         \n",
      "==================================================================================================\n",
      "Total params: 6,277,752\n",
      "Trainable params: 6,277,752\n",
      "Non-trainable params: 0\n",
      "__________________________________________________________________________________________________\n"
     ]
    }
   ],
   "source": [
    "import pickle\n",
    "import tensorflow as tf\n",
    "from Inducution_network import Contrast_induction\n",
    "import random\n",
    "import  numpy as np\n",
    "from Tokenizer import  Data_preprocess\n",
    "\n",
    "random.seed(1)\n",
    "\n",
    "query_per_batch = 1024\n",
    "class_per_batch = 8\n",
    "max_query_pre_class = 64\n",
    "max_query_lenth = 20\n",
    "min_class_query = 3\n",
    "valid_num_sample = 4\n",
    "learning_rate=1e-4\n",
    "# model = Contrast_induction(d_model=312, number_class=class_per_batch, max_query_lenth=20)\n",
    "\n",
    "with open('./train_data/sent2id.p', 'rb') as file:\n",
    "    sent2kid = pickle.load(file)\n",
    "\n",
    "def split_Data(sent2id, min_class_query, valid_num_sample):\n",
    "    id2sent = {}\n",
    "    use_id2sent = {}\n",
    "    use_sent2id = {}\n",
    "    valid_data = []\n",
    "    for k, v in sent2id.items():\n",
    "        if v not in id2sent:\n",
    "            id2sent[v] = [k]\n",
    "        else:\n",
    "            id2sent[v].append(k)\n",
    "    for id, sent_list in id2sent.items():\n",
    "        if len(sent_list) >= min_class_query:\n",
    "            temp_use_sent = sent_list\n",
    "            if len(sent_list) >= valid_num_sample:\n",
    "                random.shuffle(temp_use_sent)\n",
    "                valid_data.append(temp_use_sent[0])\n",
    "                temp_use_sent = temp_use_sent[1:]\n",
    "            use_id2sent[id] = temp_use_sent\n",
    "            for sent in temp_use_sent:\n",
    "                use_sent2id[sent] = id\n",
    "    return id2sent, use_sent2id, use_id2sent, valid_data\n",
    "#\n",
    "def creat_batch(n_class, n_query, max_query_pre_class, sent2kid, use_sent2kid, use_kid2sent):\n",
    "    sample_class = set()\n",
    "    temp_class = []\n",
    "    temp_query = []\n",
    "    temp_class_query = []\n",
    "    sample_class=random.sample(use_kid2sent.keys(),n_class)\n",
    "    for i in range(n_class):\n",
    "        sent_list=use_kid2sent[sample_class[i]]\n",
    "        random.shuffle(sent_list)\n",
    "        temp_query.append(sent_list[0])\n",
    "        temp_class_query.append(sent_list[1:max_query_pre_class+1])    \n",
    "    while len(temp_query) < n_query:\n",
    "        sample_query = random.sample(list(sent2kid.keys()), 1)[0]\n",
    "        if sent2kid[sample_query] not in sample_class:\n",
    "            temp_query.append(sample_query)\n",
    "    return temp_query, temp_class_query\n",
    "\n",
    "\n",
    "\n",
    "\n",
    "id2sent, _, _, _ = split_Data(sent2kid, min_class_query, valid_num_sample)\n",
    "\n",
    "print(\"use_label\", len(use_id2sent))\n",
    "print(\"all_label\", len(id2sent))\n",
    "print(\"valid\", len(valid_data))\n",
    "\n",
    "with open('./train_data/id2sent_use_sent2id_use_id2sent_valid_data2.p','wb') as file:\n",
    "    pickle.dump((use_sent2id, use_id2sent, valid_data),file)\n",
    "\n",
    "\n",
    "\n",
    "\n",
    "a=Contrast_induction(d_model=312, number_class=class_per_batch, max_query_lenth=20)\n",
    "model=a.bulid_graph()\n",
    "op=tf.keras.optimizers.Adam(\n",
    "    learning_rate=learning_rate, beta_1=0.9, beta_2=0.999, epsilon=1e-07, amsgrad=False,\n",
    "    name='Adam',\n",
    ")\n",
    "model.summary()\n",
    "model.compile(optimizer=op)\n",
    "\n",
    "# p=Data_preprocess()\n",
    "\n",
    "\n",
    "\n",
    "\n",
    "def generate(n_class,n_query):\n",
    "    i=0\n",
    "    p=Data_preprocess()\n",
    "    while(i<100):\n",
    "        i+1\n",
    "        temp_query,temp_class_query=creat_batch(n_class, n_query, max_query_pre_class, sent2kid, use_sent2id, use_id2sent)\n",
    "        input_list=[]\n",
    "        temp=[]\n",
    "        for sent in  temp_query:\n",
    "            temp.append(p.transform_data_one_piece(sentence=sent,lenth=20))\n",
    "        temp=np.array(temp).reshape(-1,20)\n",
    "        input_list.append(temp)\n",
    "        input_list.append(np.zeros_like(temp))\n",
    "        for i_class in temp_class_query:\n",
    "            temp=[]\n",
    "            for sent in i_class:\n",
    "                temp.append(p.transform_data_one_piece(sentence=sent,lenth=20))\n",
    "            temp=np.array(temp).reshape(-1,20)\n",
    "        #     temp=np.array(temp)\n",
    "            input_list.append(temp)\n",
    "            input_list.append(np.zeros_like(temp))\n",
    "        yield input_list\n",
    "\n",
    "# print(creat_batch(class_per_batch, query_per_batch, max_query_pre_class, sent2kid, use_sent2id, use_id2sent))\n",
    "\n",
    "# model.fit_generator(generator=generate(class_per_batch,query_per_batch),shuffle=False,epochs=20,workers=1)"
   ]
  },
  {
   "cell_type": "code",
   "execution_count": 4,
   "metadata": {},
   "outputs": [],
   "source": [
    "checkpoint_filepath=\"./save_model/\""
   ]
  },
  {
   "cell_type": "code",
   "execution_count": null,
   "metadata": {},
   "outputs": [],
   "source": []
  },
  {
   "cell_type": "code",
   "execution_count": 5,
   "metadata": {},
   "outputs": [],
   "source": [
    "# tf.keras.callbacks.ModelCheckpoint(\n",
    "#     filepath, monitor='val_loss', verbose=0, save_best_only=False,\n",
    "#     save_weights_only=False, mode='auto', save_freq='epoch',\n",
    "#     options=None, **kwargs\n",
    "# )"
   ]
  },
  {
   "cell_type": "code",
   "execution_count": 6,
   "metadata": {},
   "outputs": [],
   "source": [
    "model_checkpoint_callback = tf.keras.callbacks.ModelCheckpoint(\n",
    "    checkpoint_filepath, monitor='val_loss', verbose=0, save_best_only=False,\n",
    "    save_weights_only=False, mode='auto', save_freq='epoch',\n",
    "    options=None,\n",
    ")"
   ]
  },
  {
   "cell_type": "code",
   "execution_count": 7,
   "metadata": {},
   "outputs": [],
   "source": [
    "model=tf.keras.models.load_model('./save_model/912model')"
   ]
  },
  {
   "cell_type": "code",
   "execution_count": 8,
   "metadata": {},
   "outputs": [],
   "source": [
    "# model.load_weights('./save_model/91model')"
   ]
  },
  {
   "cell_type": "code",
   "execution_count": null,
   "metadata": {},
   "outputs": [
    {
     "name": "stdout",
     "output_type": "stream",
     "text": [
      "Epoch 1/20\n",
      " 2698/10000 [=======>......................] - ETA: 4:19:52 - loss: 0.1219"
     ]
    }
   ],
   "source": [
    "model.fit_generator(generator=generate(class_per_batch,query_per_batch),steps_per_epoch=10000,shuffle=False,epochs=20,workers=1,callbacks=model_checkpoint_callback)\n",
    "# model.save('./save_model/91model')"
   ]
  },
  {
   "cell_type": "code",
   "execution_count": 10,
   "metadata": {},
   "outputs": [
    {
     "name": "stdout",
     "output_type": "stream",
     "text": [
      "INFO:tensorflow:Assets written to: ./save_model/912model/assets\n"
     ]
    }
   ],
   "source": [
    "model.save('./save_model/912model/')"
   ]
  },
  {
   "cell_type": "code",
   "execution_count": null,
   "metadata": {},
   "outputs": [],
   "source": []
  },
  {
   "cell_type": "code",
   "execution_count": null,
   "metadata": {},
   "outputs": [],
   "source": []
  },
  {
   "cell_type": "code",
   "execution_count": null,
   "metadata": {},
   "outputs": [],
   "source": []
  },
  {
   "cell_type": "code",
   "execution_count": null,
   "metadata": {},
   "outputs": [],
   "source": []
  },
  {
   "cell_type": "code",
   "execution_count": null,
   "metadata": {},
   "outputs": [],
   "source": []
  },
  {
   "cell_type": "code",
   "execution_count": 3,
   "metadata": {},
   "outputs": [
    {
     "name": "stdout",
     "output_type": "stream",
     "text": [
      "[]\n"
     ]
    }
   ],
   "source": [
    "from tensorflow.python.client import device_lib\n",
    "\n",
    "def get_available_gpus():\n",
    "    local_device_protos = device_lib.list_local_devices()\n",
    "    return [x.name for x in local_device_protos if x.device_type == 'GPU']\n",
    "\n",
    "print(get_available_gpus())"
   ]
  },
  {
   "cell_type": "code",
   "execution_count": 1,
   "metadata": {},
   "outputs": [],
   "source": [
    "import tensorflow as tf"
   ]
  },
  {
   "cell_type": "code",
   "execution_count": 2,
   "metadata": {},
   "outputs": [
    {
     "data": {
      "text/plain": [
       "[PhysicalDevice(name='/physical_device:GPU:0', device_type='GPU')]"
      ]
     },
     "execution_count": 2,
     "metadata": {},
     "output_type": "execute_result"
    }
   ],
   "source": [
    "tf.config.experimental.list_physical_devices(\"GPU\")"
   ]
  },
  {
   "cell_type": "code",
   "execution_count": 3,
   "metadata": {},
   "outputs": [
    {
     "data": {
      "text/plain": [
       "[PhysicalDevice(name='/physical_device:GPU:0', device_type='GPU')]"
      ]
     },
     "execution_count": 3,
     "metadata": {},
     "output_type": "execute_result"
    }
   ],
   "source": [
    "tf.config.list_physical_devices('GPU')"
   ]
  },
  {
   "cell_type": "code",
   "execution_count": null,
   "metadata": {},
   "outputs": [],
   "source": []
  },
  {
   "cell_type": "code",
   "execution_count": null,
   "metadata": {},
   "outputs": [],
   "source": []
  },
  {
   "cell_type": "code",
   "execution_count": null,
   "metadata": {},
   "outputs": [],
   "source": []
  },
  {
   "cell_type": "code",
   "execution_count": null,
   "metadata": {},
   "outputs": [],
   "source": []
  },
  {
   "cell_type": "code",
   "execution_count": null,
   "metadata": {},
   "outputs": [],
   "source": []
  }
 ],
 "metadata": {
  "kernelspec": {
   "display_name": "Python 3 (ipykernel)",
   "language": "python",
   "name": "python3"
  },
  "language_info": {
   "codemirror_mode": {
    "name": "ipython",
    "version": 3
   },
   "file_extension": ".py",
   "mimetype": "text/x-python",
   "name": "python",
   "nbconvert_exporter": "python",
   "pygments_lexer": "ipython3",
   "version": "3.7.11"
  }
 },
 "nbformat": 4,
 "nbformat_minor": 4
}
